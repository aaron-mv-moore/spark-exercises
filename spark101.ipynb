{
 "cells": [
  {
   "cell_type": "code",
   "execution_count": 1,
   "id": "8ed0129f",
   "metadata": {},
   "outputs": [],
   "source": [
    "import pyspark\n",
    "import pandas as pd\n",
    "from pydataset import data\n",
    "from pyspark.sql import functions as f"
   ]
  },
  {
   "cell_type": "code",
   "execution_count": 2,
   "id": "36db8f75",
   "metadata": {},
   "outputs": [
    {
     "name": "stderr",
     "output_type": "stream",
     "text": [
      "Setting default log level to \"WARN\".\n",
      "To adjust logging level use sc.setLogLevel(newLevel). For SparkR, use setLogLevel(newLevel).\n",
      "23/05/19 09:36:52 WARN NativeCodeLoader: Unable to load native-hadoop library for your platform... using builtin-java classes where applicable\n"
     ]
    }
   ],
   "source": [
    "# create session\n",
    "spark = pyspark.sql.SparkSession.builder.getOrCreate()"
   ]
  },
  {
   "cell_type": "code",
   "execution_count": 3,
   "id": "b77fca39",
   "metadata": {},
   "outputs": [],
   "source": [
    "# creating spark data frame\n",
    "df = spark.createDataFrame(pd.DataFrame({'language': ['python', 'sql', 'r', 'java', 'javascript', 'c', 'ruby']}))"
   ]
  },
  {
   "cell_type": "code",
   "execution_count": 4,
   "id": "e8f3daa2",
   "metadata": {},
   "outputs": [
    {
     "name": "stdout",
     "output_type": "stream",
     "text": [
      "root\n",
      " |-- language: string (nullable = true)\n",
      "\n"
     ]
    }
   ],
   "source": [
    "df.printSchema()"
   ]
  },
  {
   "cell_type": "code",
   "execution_count": 5,
   "id": "a934be00",
   "metadata": {},
   "outputs": [
    {
     "name": "stderr",
     "output_type": "stream",
     "text": [
      "[Stage 0:>                                                        (0 + 10) / 10]\r"
     ]
    },
    {
     "name": "stdout",
     "output_type": "stream",
     "text": [
      "+-------+--------+\n",
      "|summary|language|\n",
      "+-------+--------+\n",
      "|  count|       7|\n",
      "|   mean|    null|\n",
      "| stddev|    null|\n",
      "|    min|       c|\n",
      "|    max|     sql|\n",
      "+-------+--------+\n",
      "\n"
     ]
    },
    {
     "name": "stderr",
     "output_type": "stream",
     "text": [
      "\r",
      "                                                                                \r"
     ]
    }
   ],
   "source": [
    "df.describe().show()"
   ]
  },
  {
   "cell_type": "code",
   "execution_count": 6,
   "id": "0a651f36",
   "metadata": {},
   "outputs": [
    {
     "name": "stdout",
     "output_type": "stream",
     "text": [
      "+----------+\n",
      "|  language|\n",
      "+----------+\n",
      "|    python|\n",
      "|       sql|\n",
      "|         r|\n",
      "|      java|\n",
      "|javascript|\n",
      "+----------+\n",
      "only showing top 5 rows\n",
      "\n"
     ]
    }
   ],
   "source": [
    "df.show(5)"
   ]
  },
  {
   "cell_type": "code",
   "execution_count": 7,
   "id": "cd82b028",
   "metadata": {},
   "outputs": [],
   "source": [
    "mpg = data('mpg')"
   ]
  },
  {
   "cell_type": "code",
   "execution_count": 8,
   "id": "00ea52ad",
   "metadata": {},
   "outputs": [],
   "source": [
    "# creating zpark df\n",
    "df = spark.createDataFrame(mpg)"
   ]
  },
  {
   "cell_type": "code",
   "execution_count": 9,
   "id": "19ca1292",
   "metadata": {},
   "outputs": [
    {
     "name": "stdout",
     "output_type": "stream",
     "text": [
      "+------------+-----+-----+----+---+----------+---+---+---+---+-------+\n",
      "|manufacturer|model|displ|year|cyl|     trans|drv|cty|hwy| fl|  class|\n",
      "+------------+-----+-----+----+---+----------+---+---+---+---+-------+\n",
      "|        audi|   a4|  1.8|1999|  4|  auto(l5)|  f| 18| 29|  p|compact|\n",
      "|        audi|   a4|  1.8|1999|  4|manual(m5)|  f| 21| 29|  p|compact|\n",
      "|        audi|   a4|  2.0|2008|  4|manual(m6)|  f| 20| 31|  p|compact|\n",
      "|        audi|   a4|  2.0|2008|  4|  auto(av)|  f| 21| 30|  p|compact|\n",
      "|        audi|   a4|  2.8|1999|  6|  auto(l5)|  f| 16| 26|  p|compact|\n",
      "+------------+-----+-----+----+---+----------+---+---+---+---+-------+\n",
      "only showing top 5 rows\n",
      "\n"
     ]
    }
   ],
   "source": [
    "df.show(5)"
   ]
  },
  {
   "cell_type": "code",
   "execution_count": 10,
   "id": "591af57d",
   "metadata": {},
   "outputs": [
    {
     "name": "stdout",
     "output_type": "stream",
     "text": [
      "+--------------------+\n",
      "|            sentence|\n",
      "+--------------------+\n",
      "|The 1999 compact ...|\n",
      "|The 1999 compact ...|\n",
      "|The 2008 compact ...|\n",
      "|The 2008 compact ...|\n",
      "|The 1999 compact ...|\n",
      "|The 1999 compact ...|\n",
      "|The 2008 compact ...|\n",
      "|The 1999 compact ...|\n",
      "|The 1999 compact ...|\n",
      "|The 2008 compact ...|\n",
      "|The 2008 compact ...|\n",
      "|The 1999 compact ...|\n",
      "|The 1999 compact ...|\n",
      "|The 2008 compact ...|\n",
      "|The 2008 compact ...|\n",
      "|The 1999 midsize ...|\n",
      "|The 2008 midsize ...|\n",
      "|The 2008 midsize ...|\n",
      "|The 2008 suv c150...|\n",
      "|The 2008 suv c150...|\n",
      "+--------------------+\n",
      "only showing top 20 rows\n",
      "\n"
     ]
    }
   ],
   "source": [
    "df.select(\n",
    "    f.concat(f.lit('The '),\n",
    "             f.expr('year'),\n",
    "             f.lit(' '),\n",
    "             f.expr('class'),\n",
    "             f.lit(' '),\n",
    "             f.expr('model'),\n",
    "             f.lit(' has a '),\n",
    "             f.expr('cyl'),\n",
    "             f.lit(' cylinder engine.')\n",
    "            ).alias('sentence')).show()"
   ]
  },
  {
   "cell_type": "code",
   "execution_count": 11,
   "id": "43372388",
   "metadata": {},
   "outputs": [
    {
     "name": "stdout",
     "output_type": "stream",
     "text": [
      "+--------------------+\n",
      "|startswith(trans, a)|\n",
      "+--------------------+\n",
      "|                true|\n",
      "|               false|\n",
      "|               false|\n",
      "|                true|\n",
      "|                true|\n",
      "|               false|\n",
      "|                true|\n",
      "|               false|\n",
      "|                true|\n",
      "|               false|\n",
      "|                true|\n",
      "|                true|\n",
      "|               false|\n",
      "|                true|\n",
      "|               false|\n",
      "|                true|\n",
      "|                true|\n",
      "|                true|\n",
      "|                true|\n",
      "|                true|\n",
      "+--------------------+\n",
      "only showing top 20 rows\n",
      "\n"
     ]
    }
   ],
   "source": [
    "df.select(df.trans.startswith('a')).show()"
   ]
  },
  {
   "cell_type": "code",
   "execution_count": 12,
   "id": "1e9fbc3d",
   "metadata": {},
   "outputs": [
    {
     "name": "stdout",
     "output_type": "stream",
     "text": [
      "+------------+\n",
      "|transmission|\n",
      "+------------+\n",
      "|        auto|\n",
      "|      manual|\n",
      "|      manual|\n",
      "|        auto|\n",
      "|        auto|\n",
      "|      manual|\n",
      "|        auto|\n",
      "|      manual|\n",
      "|        auto|\n",
      "|      manual|\n",
      "|        auto|\n",
      "|        auto|\n",
      "|      manual|\n",
      "|        auto|\n",
      "|      manual|\n",
      "|        auto|\n",
      "|        auto|\n",
      "|        auto|\n",
      "|        auto|\n",
      "|        auto|\n",
      "+------------+\n",
      "only showing top 20 rows\n",
      "\n"
     ]
    }
   ],
   "source": [
    "df.select(\n",
    "    f.when(df.trans.startswith('a'), 'auto').otherwise('manual').alias('transmission')\n",
    ").show()\n",
    "\n"
   ]
  },
  {
   "cell_type": "code",
   "execution_count": 13,
   "id": "3c60f23e",
   "metadata": {},
   "outputs": [],
   "source": [
    "# loading the tips data set\n",
    "tips = data('tips')"
   ]
  },
  {
   "cell_type": "code",
   "execution_count": 14,
   "id": "aec18ed2",
   "metadata": {},
   "outputs": [],
   "source": [
    "# making a sparrk df\n",
    "df = spark.createDataFrame(tips)"
   ]
  },
  {
   "cell_type": "code",
   "execution_count": 19,
   "id": "d34a6071",
   "metadata": {},
   "outputs": [
    {
     "name": "stdout",
     "output_type": "stream",
     "text": [
      "+-------+------+\n",
      "|summary|smoker|\n",
      "+-------+------+\n",
      "|  count|   244|\n",
      "|   mean|  null|\n",
      "| stddev|  null|\n",
      "|    min|    No|\n",
      "|    max|   Yes|\n",
      "+-------+------+\n",
      "\n"
     ]
    },
    {
     "name": "stderr",
     "output_type": "stream",
     "text": [
      "\r",
      "[Stage 14:>                                                       (0 + 10) / 10]\r",
      "\r",
      "                                                                                \r"
     ]
    }
   ],
   "source": [
    "df.select('smoker').describe().show()"
   ]
  },
  {
   "cell_type": "code",
   "execution_count": 30,
   "id": "85b5fb6f",
   "metadata": {},
   "outputs": [
    {
     "name": "stdout",
     "output_type": "stream",
     "text": [
      "+-----------+\n",
      "|smoker_perc|\n",
      "+-----------+\n",
      "|     38.11%|\n",
      "+-----------+\n",
      "\n"
     ]
    }
   ],
   "source": [
    "# hwrta percentage of the oberservations are smokers?\n",
    "# smokers / totalobs * 100\n",
    "df.select(\n",
    "    f.concat(f.round((f.avg(f.when(df.smoker == 'Yes', 1).\\\n",
    "    otherwise(0)) * 100), 2), f.lit('%')).alias('smoker_perc')\n",
    ").show()"
   ]
  },
  {
   "cell_type": "code",
   "execution_count": 32,
   "id": "b12ef219",
   "metadata": {},
   "outputs": [
    {
     "name": "stdout",
     "output_type": "stream",
     "text": [
      "+----------+----+------+------+---+------+----+\n",
      "|total_bill| tip|   sex|smoker|day|  time|size|\n",
      "+----------+----+------+------+---+------+----+\n",
      "|     16.99|1.01|Female|    No|Sun|Dinner|   2|\n",
      "+----------+----+------+------+---+------+----+\n",
      "only showing top 1 row\n",
      "\n"
     ]
    }
   ],
   "source": [
    "# Create a column that contains the tip percentage\n",
    "df.show(1)"
   ]
  },
  {
   "cell_type": "code",
   "execution_count": 49,
   "id": "b61ab0aa",
   "metadata": {},
   "outputs": [
    {
     "name": "stdout",
     "output_type": "stream",
     "text": [
      "+--------+\n",
      "|tip_perc|\n",
      "+--------+\n",
      "|    5.94|\n",
      "|   16.05|\n",
      "|   16.66|\n",
      "|   13.98|\n",
      "|   14.68|\n",
      "|   18.62|\n",
      "|   22.81|\n",
      "|   11.61|\n",
      "|   13.03|\n",
      "|   21.85|\n",
      "|   16.65|\n",
      "|   14.18|\n",
      "|   10.18|\n",
      "|   16.28|\n",
      "|   20.36|\n",
      "|   18.16|\n",
      "|   16.17|\n",
      "|   22.77|\n",
      "|   20.62|\n",
      "|   16.22|\n",
      "+--------+\n",
      "only showing top 20 rows\n",
      "\n"
     ]
    }
   ],
   "source": [
    "tip_percentage = f.round(df.tip / df.total_bill * 100, 2).alias('tip_perc')\n",
    "df.select(\n",
    "    tip_percentage\n",
    ").show()"
   ]
  },
  {
   "cell_type": "code",
   "execution_count": 51,
   "id": "fba08989",
   "metadata": {},
   "outputs": [
    {
     "name": "stderr",
     "output_type": "stream",
     "text": [
      "\r",
      "[Stage 87:>                                                       (0 + 10) / 10]\r"
     ]
    },
    {
     "name": "stdout",
     "output_type": "stream",
     "text": [
      "+------+------------------+------------------+\n",
      "|smoker|            Female|              Male|\n",
      "+------+------------------+------------------+\n",
      "|    No| 15.69111111111111|16.066597938144334|\n",
      "|   Yes|18.214545454545455|15.276666666666667|\n",
      "+------+------------------+------------------+\n",
      "\n"
     ]
    },
    {
     "name": "stderr",
     "output_type": "stream",
     "text": [
      "\r",
      "                                                                                \r"
     ]
    }
   ],
   "source": [
    "# Calculate the average tip percentage for each combination of sex and smoker.\n",
    "df.groupby('smoker').pivot('sex').agg(f.avg(tip_percentage)).show()"
   ]
  },
  {
   "cell_type": "code",
   "execution_count": 53,
   "id": "d365a856",
   "metadata": {},
   "outputs": [
    {
     "name": "stdout",
     "output_type": "stream",
     "text": [
      "+----------+-------------+--------+--------+----+-------+\n",
      "|      date|precipitation|temp_max|temp_min|wind|weather|\n",
      "+----------+-------------+--------+--------+----+-------+\n",
      "|2012-01-01|          0.0|    12.8|     5.0| 4.7|drizzle|\n",
      "|2012-01-02|         10.9|    10.6|     2.8| 4.5|   rain|\n",
      "|2012-01-03|          0.8|    11.7|     7.2| 2.3|   rain|\n",
      "|2012-01-04|         20.3|    12.2|     5.6| 4.7|   rain|\n",
      "|2012-01-05|          1.3|     8.9|     2.8| 6.1|   rain|\n",
      "|2012-01-06|          2.5|     4.4|     2.2| 2.2|   rain|\n",
      "+----------+-------------+--------+--------+----+-------+\n",
      "only showing top 6 rows\n",
      "\n"
     ]
    }
   ],
   "source": [
    "from vega_datasets import data\n",
    "\n",
    "weather = data.seattle_weather().assign(date=lambda df: df.date.astype(str))\n",
    "df = spark.createDataFrame(weather)\n",
    "df.show(6)"
   ]
  },
  {
   "cell_type": "code",
   "execution_count": 59,
   "id": "41a23b28",
   "metadata": {},
   "outputs": [
    {
     "name": "stdout",
     "output_type": "stream",
     "text": [
      "+----------+----------+\n",
      "|temp_max_f|temp_min_f|\n",
      "+----------+----------+\n",
      "|      55.0|      41.0|\n",
      "|      51.1|      37.0|\n",
      "|      53.1|      45.0|\n",
      "|      54.0|      42.1|\n",
      "|      48.0|      37.0|\n",
      "+----------+----------+\n",
      "only showing top 5 rows\n",
      "\n"
     ]
    }
   ],
   "source": [
    "# Convert the temperatures to fahrenheit.\n",
    "farenheit_max = f.round((df.temp_max * 1.8) + 32, 1).alias('temp_max_f')\n",
    "farenheit_min = f.round((df.temp_min * 1.8) + 32, 1).alias('temp_min_f')\n",
    "\n",
    "# view change\n",
    "df.select(\n",
    "    farenheit_max,\n",
    "    farenheit_min\n",
    ").show(5)"
   ]
  },
  {
   "cell_type": "code",
   "execution_count": 73,
   "id": "80ad6aab",
   "metadata": {},
   "outputs": [
    {
     "name": "stderr",
     "output_type": "stream",
     "text": [
      "\r",
      "[Stage 114:=====>                                                  (1 + 9) / 10]\r"
     ]
    },
    {
     "name": "stdout",
     "output_type": "stream",
     "text": [
      "+-----+-------------------+\n",
      "|month| avg(precipitation)|\n",
      "+-----+-------------------+\n",
      "|   11|  5.354166666666667|\n",
      "|   12|  5.021774193548388|\n",
      "|    3|  4.888709677419355|\n",
      "|   10|  4.059677419354839|\n",
      "|    1| 3.7580645161290316|\n",
      "|    2|  3.734513274336283|\n",
      "|    4|  3.128333333333333|\n",
      "|    9| 1.9624999999999997|\n",
      "|    5| 1.6733870967741935|\n",
      "|    8| 1.3201612903225806|\n",
      "|    6| 1.1075000000000002|\n",
      "|    7|0.38870967741935486|\n",
      "+-----+-------------------+\n",
      "\n"
     ]
    },
    {
     "name": "stderr",
     "output_type": "stream",
     "text": [
      "\r",
      "                                                                                \r"
     ]
    }
   ],
   "source": [
    "# Which month has the most rain, on average?\n",
    "(\n",
    "    df.withColumn('month', f.month('date'))\n",
    "    .groupby('month')\n",
    "    .agg(f.avg('precipitation'))\n",
    "    .alias('avg_rain')\n",
    "    .sort(f.desc('`avg_rain`.`avg(precipitation)`' ))\n",
    "    .show()\n",
    ")"
   ]
  },
  {
   "cell_type": "code",
   "execution_count": 83,
   "id": "661a2b1a",
   "metadata": {},
   "outputs": [
    {
     "name": "stdout",
     "output_type": "stream",
     "text": [
      "+----+------------------+\n",
      "|year|         sum(wind)|\n",
      "+----+------------------+\n",
      "|2012|            1244.7|\n",
      "|2014|            1236.5|\n",
      "|2015|1153.2999999999997|\n",
      "|2013|1100.8000000000002|\n",
      "+----+------------------+\n",
      "\n"
     ]
    }
   ],
   "source": [
    "# Which year was the windiest?\n",
    "(\n",
    "    df.withColumn('year', f.year('date'))\n",
    "    .groupby('year')\n",
    "    .agg(f.sum('wind'))\n",
    "    .sort(f.desc('sum(wind)'))\n",
    "    .show(5)\n",
    ")"
   ]
  },
  {
   "cell_type": "code",
   "execution_count": 97,
   "id": "f5886b92",
   "metadata": {},
   "outputs": [
    {
     "name": "stdout",
     "output_type": "stream",
     "text": [
      "+-----------+-------+---+----+----+---+\n",
      "|month(date)|drizzle|fog|rain|snow|sun|\n",
      "+-----------+-------+---+----+----+---+\n",
      "|          1|     10| 38|  35|   8| 33|\n",
      "+-----------+-------+---+----+----+---+\n",
      "\n"
     ]
    }
   ],
   "source": [
    "# What is the most frequent type of weather in January?\n",
    "(\n",
    "    df.withColumn('month', f.month('date'))\n",
    "    .filter(f.month('date') == 1)\n",
    "    .groupby(f.month('date'))\n",
    "    .pivot('weather')\n",
    "    .count()\n",
    "    .show()\n",
    ")"
   ]
  },
  {
   "cell_type": "code",
   "execution_count": 108,
   "id": "d1b9831d",
   "metadata": {},
   "outputs": [
    {
     "name": "stdout",
     "output_type": "stream",
     "text": [
      "+------------------+-----------------+\n",
      "|     avg(temp_max)|    avg(temp_min)|\n",
      "+------------------+-----------------+\n",
      "|26.828846153846158|14.18269230769231|\n",
      "+------------------+-----------------+\n",
      "\n"
     ]
    }
   ],
   "source": [
    "# What is the average high and low temperature on sunny days in July in 2013 and 2014?\n",
    "(\n",
    "    df\n",
    "    .filter(df.weather == 'sun')\n",
    "    .filter(f.month('date') == 7)\n",
    "    .filter((f.year('date') == 2013) | (f.year('date') == 2014))\n",
    "    .agg(f.avg('temp_max'), f.avg('temp_min'))\n",
    "    .show()\n",
    ")"
   ]
  },
  {
   "cell_type": "code",
   "execution_count": 116,
   "id": "688361e4",
   "metadata": {},
   "outputs": [
    {
     "ename": "TypeError",
     "evalue": "'Column' object is not callable",
     "output_type": "error",
     "traceback": [
      "\u001b[0;31m---------------------------------------------------------------------------\u001b[0m",
      "\u001b[0;31mTypeError\u001b[0m                                 Traceback (most recent call last)",
      "Input \u001b[0;32mIn [116]\u001b[0m, in \u001b[0;36m<cell line: 3>\u001b[0;34m()\u001b[0m\n\u001b[1;32m      1\u001b[0m \u001b[38;5;66;03m# What percentage of days were rainy in q3 of 2015?\u001b[39;00m\n\u001b[1;32m      2\u001b[0m (\n\u001b[1;32m      3\u001b[0m     df\n\u001b[1;32m      4\u001b[0m     \u001b[38;5;241m.\u001b[39mfilter(f\u001b[38;5;241m.\u001b[39myear(\u001b[38;5;124m'\u001b[39m\u001b[38;5;124mdate\u001b[39m\u001b[38;5;124m'\u001b[39m) \u001b[38;5;241m==\u001b[39m \u001b[38;5;241m2015\u001b[39m)\n\u001b[1;32m      5\u001b[0m     \u001b[38;5;241m.\u001b[39mfilter(f\u001b[38;5;241m.\u001b[39mquarter(\u001b[38;5;124m'\u001b[39m\u001b[38;5;124mdate\u001b[39m\u001b[38;5;124m'\u001b[39m) \u001b[38;5;241m==\u001b[39m \u001b[38;5;241m3\u001b[39m)\n\u001b[1;32m      6\u001b[0m     \u001b[38;5;241m.\u001b[39mselect(\n\u001b[0;32m----> 7\u001b[0m         \u001b[43mf\u001b[49m\u001b[38;5;241;43m.\u001b[39;49m\u001b[43mwhen\u001b[49m\u001b[43m(\u001b[49m\u001b[43mdf\u001b[49m\u001b[38;5;241;43m.\u001b[39;49m\u001b[43mweather\u001b[49m\u001b[43m \u001b[49m\u001b[38;5;241;43m==\u001b[39;49m\u001b[43m \u001b[49m\u001b[38;5;124;43m'\u001b[39;49m\u001b[38;5;124;43mrainy\u001b[39;49m\u001b[38;5;124;43m'\u001b[39;49m\u001b[43m,\u001b[49m\u001b[43m \u001b[49m\u001b[38;5;241;43m1\u001b[39;49m\u001b[43m)\u001b[49m\n\u001b[1;32m      8\u001b[0m \u001b[43m        \u001b[49m\u001b[38;5;241;43m.\u001b[39;49m\u001b[43motherwise\u001b[49m\u001b[43m(\u001b[49m\u001b[38;5;241;43m0\u001b[39;49m\u001b[43m)\u001b[49m\n\u001b[1;32m      9\u001b[0m \u001b[43m        \u001b[49m\u001b[38;5;241;43m.\u001b[39;49m\u001b[43malias\u001b[49m\u001b[43m(\u001b[49m\u001b[38;5;124;43m'\u001b[39;49m\u001b[38;5;124;43mrain\u001b[39;49m\u001b[38;5;124;43m'\u001b[39;49m\u001b[43m)\u001b[49m\n\u001b[1;32m     10\u001b[0m \u001b[43m        \u001b[49m\u001b[38;5;241;43m.\u001b[39;49m\u001b[43mmean\u001b[49m\u001b[43m(\u001b[49m\u001b[38;5;124;43m'\u001b[39;49m\u001b[38;5;124;43mrain\u001b[39;49m\u001b[38;5;124;43m'\u001b[39;49m\u001b[43m)\u001b[49m\n\u001b[1;32m     11\u001b[0m     )\n\u001b[1;32m     12\u001b[0m     \u001b[38;5;241m.\u001b[39mshow()\n\u001b[1;32m     13\u001b[0m )\n",
      "\u001b[0;31mTypeError\u001b[0m: 'Column' object is not callable"
     ]
    }
   ],
   "source": [
    "# What percentage of days were rainy in q3 of 2015?\n",
    "(\n",
    "    df\n",
    "    .filter(f.year('date') == 2015)\n",
    "    .filter(f.quarter('date') == 3)\n",
    "    .select(\n",
    "        f.when(df.weather == 'rainy', 1)\n",
    "        .otherwise(0)\n",
    "        .alias('rain')\n",
    "    )\n",
    "    .show()\n",
    ")"
   ]
  },
  {
   "cell_type": "code",
   "execution_count": 150,
   "id": "d10a2595",
   "metadata": {},
   "outputs": [
    {
     "name": "stdout",
     "output_type": "stream",
     "text": [
      "+-------------------------------------------------------------------+\n",
      "|round((avg(CASE WHEN (weather = rain) THEN 1 ELSE 0 END) * 100), 2)|\n",
      "+-------------------------------------------------------------------+\n",
      "|                                                              17.73|\n",
      "+-------------------------------------------------------------------+\n",
      "\n"
     ]
    }
   ],
   "source": [
    "(\n",
    "    df.withColumn(\"quarter\", f.quarter(\"date\"))\n",
    "    .withColumn(\"year\", f.year(\"date\")).select(\n",
    "    \n",
    "    ).agg()\n",
    "    .show()\n",
    ")"
   ]
  },
  {
   "cell_type": "code",
   "execution_count": 161,
   "id": "79b0e861",
   "metadata": {},
   "outputs": [
    {
     "name": "stdout",
     "output_type": "stream",
     "text": [
      "+-------+-----+-----+----+----+\n",
      "|quarter| 2012| 2013|2014|2015|\n",
      "+-------+-----+-----+----+----+\n",
      "|      1|59.34|63.33| 0.0|1.11|\n",
      "|      3|19.57| 2.17|2.17|2.17|\n",
      "|      4|70.65| 1.09|1.09|1.09|\n",
      "|      2|59.34|  0.0| 0.0| 1.1|\n",
      "+-------+-----+-----+----+----+\n",
      "\n"
     ]
    }
   ],
   "source": [
    "\n",
    "\n",
    "(\n",
    "    df.withColumn(\"quarter\", f.quarter(\"date\"))\n",
    "    .withColumn(\"year\", f.year(\"date\"))\n",
    "    .groupBy(\"quarter\")\n",
    "    .pivot(\"year\")\n",
    "    .agg(f.round(f.avg(f.when(df.weather == 'rain', 1).otherwise(0)) * 100, 2))\n",
    "    .show()\n",
    ")\n"
   ]
  },
  {
   "cell_type": "code",
   "execution_count": 163,
   "id": "980b4fca",
   "metadata": {},
   "outputs": [
    {
     "name": "stdout",
     "output_type": "stream",
     "text": [
      "+----+----------------------------------------------------------------------+\n",
      "|year|round((avg(CASE WHEN (precipitation > 0) THEN 1 ELSE 0 END) * 100), 2)|\n",
      "+----+----------------------------------------------------------------------+\n",
      "|2012|                                                                 48.36|\n",
      "|2013|                                                                 41.64|\n",
      "|2014|                                                                  41.1|\n",
      "|2015|                                                                 39.45|\n",
      "+----+----------------------------------------------------------------------+\n",
      "\n"
     ]
    }
   ],
   "source": [
    "# For each year, find what percentage of days it rained (had non-zero precipitation).\n",
    "(\n",
    "    df.withColumn(\"year\", f.year(\"date\"))\n",
    "    .groupby('year')\n",
    "    .agg(f.round(f.avg(f.when(df.precipitation > 0, 1).otherwise(0)) * 100, 2))\n",
    "    .show()\n",
    ")"
   ]
  }
 ],
 "metadata": {
  "kernelspec": {
   "display_name": "Python 3 (ipykernel)",
   "language": "python",
   "name": "python3"
  },
  "language_info": {
   "codemirror_mode": {
    "name": "ipython",
    "version": 3
   },
   "file_extension": ".py",
   "mimetype": "text/x-python",
   "name": "python",
   "nbconvert_exporter": "python",
   "pygments_lexer": "ipython3",
   "version": "3.9.13"
  }
 },
 "nbformat": 4,
 "nbformat_minor": 5
}
