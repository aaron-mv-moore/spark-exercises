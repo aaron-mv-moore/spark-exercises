{
 "cells": [
  {
   "cell_type": "code",
   "execution_count": 19,
   "id": "8ed0129f",
   "metadata": {},
   "outputs": [],
   "source": [
    "import pyspark\n",
    "import pandas as pd\n",
    "from pydataset import data\n",
    "from pyspark.sql import functions as f"
   ]
  },
  {
   "cell_type": "code",
   "execution_count": 6,
   "id": "36db8f75",
   "metadata": {},
   "outputs": [
    {
     "name": "stderr",
     "output_type": "stream",
     "text": [
      "Setting default log level to \"WARN\".\n",
      "To adjust logging level use sc.setLogLevel(newLevel). For SparkR, use setLogLevel(newLevel).\n",
      "23/05/18 16:35:22 WARN NativeCodeLoader: Unable to load native-hadoop library for your platform... using builtin-java classes where applicable\n",
      "23/05/18 16:35:23 WARN Utils: Service 'SparkUI' could not bind on port 4040. Attempting port 4041.\n"
     ]
    }
   ],
   "source": [
    "# create session\n",
    "spark = pyspark.sql.SparkSession.builder.getOrCreate()"
   ]
  },
  {
   "cell_type": "code",
   "execution_count": 12,
   "id": "b77fca39",
   "metadata": {},
   "outputs": [],
   "source": [
    "# creating spark data frame\n",
    "df = spark.createDataFrame(pd.DataFrame({'language': ['python', 'sql', 'r', 'java', 'javascript', 'c', 'ruby']}))"
   ]
  },
  {
   "cell_type": "code",
   "execution_count": 13,
   "id": "e8f3daa2",
   "metadata": {},
   "outputs": [
    {
     "name": "stdout",
     "output_type": "stream",
     "text": [
      "root\n",
      " |-- language: string (nullable = true)\n",
      "\n"
     ]
    }
   ],
   "source": [
    "df.printSchema()"
   ]
  },
  {
   "cell_type": "code",
   "execution_count": 14,
   "id": "a934be00",
   "metadata": {},
   "outputs": [
    {
     "name": "stdout",
     "output_type": "stream",
     "text": [
      "+-------+--------+\n",
      "|summary|language|\n",
      "+-------+--------+\n",
      "|  count|       7|\n",
      "|   mean|    null|\n",
      "| stddev|    null|\n",
      "|    min|       c|\n",
      "|    max|     sql|\n",
      "+-------+--------+\n",
      "\n"
     ]
    }
   ],
   "source": [
    "df.describe().show()"
   ]
  },
  {
   "cell_type": "code",
   "execution_count": 15,
   "id": "0a651f36",
   "metadata": {},
   "outputs": [
    {
     "name": "stdout",
     "output_type": "stream",
     "text": [
      "+----------+\n",
      "|  language|\n",
      "+----------+\n",
      "|    python|\n",
      "|       sql|\n",
      "|         r|\n",
      "|      java|\n",
      "|javascript|\n",
      "+----------+\n",
      "only showing top 5 rows\n",
      "\n"
     ]
    }
   ],
   "source": [
    "df.show(5)"
   ]
  },
  {
   "cell_type": "code",
   "execution_count": 17,
   "id": "cd82b028",
   "metadata": {},
   "outputs": [],
   "source": [
    "mpg = data('mpg')"
   ]
  },
  {
   "cell_type": "code",
   "execution_count": 18,
   "id": "00ea52ad",
   "metadata": {},
   "outputs": [],
   "source": [
    "# creating zpark df\n",
    "df = spark.createDataFrame(mpg)"
   ]
  },
  {
   "cell_type": "code",
   "execution_count": 20,
   "id": "19ca1292",
   "metadata": {},
   "outputs": [
    {
     "name": "stdout",
     "output_type": "stream",
     "text": [
      "+------------+-----+-----+----+---+----------+---+---+---+---+-------+\n",
      "|manufacturer|model|displ|year|cyl|     trans|drv|cty|hwy| fl|  class|\n",
      "+------------+-----+-----+----+---+----------+---+---+---+---+-------+\n",
      "|        audi|   a4|  1.8|1999|  4|  auto(l5)|  f| 18| 29|  p|compact|\n",
      "|        audi|   a4|  1.8|1999|  4|manual(m5)|  f| 21| 29|  p|compact|\n",
      "|        audi|   a4|  2.0|2008|  4|manual(m6)|  f| 20| 31|  p|compact|\n",
      "|        audi|   a4|  2.0|2008|  4|  auto(av)|  f| 21| 30|  p|compact|\n",
      "|        audi|   a4|  2.8|1999|  6|  auto(l5)|  f| 16| 26|  p|compact|\n",
      "+------------+-----+-----+----+---+----------+---+---+---+---+-------+\n",
      "only showing top 5 rows\n",
      "\n"
     ]
    }
   ],
   "source": [
    "df.show(5)"
   ]
  },
  {
   "cell_type": "code",
   "execution_count": 32,
   "id": "591af57d",
   "metadata": {},
   "outputs": [
    {
     "name": "stdout",
     "output_type": "stream",
     "text": [
      "+--------------------+\n",
      "|            sentence|\n",
      "+--------------------+\n",
      "|The 1999 compact ...|\n",
      "|The 1999 compact ...|\n",
      "|The 2008 compact ...|\n",
      "|The 2008 compact ...|\n",
      "|The 1999 compact ...|\n",
      "|The 1999 compact ...|\n",
      "|The 2008 compact ...|\n",
      "|The 1999 compact ...|\n",
      "|The 1999 compact ...|\n",
      "|The 2008 compact ...|\n",
      "|The 2008 compact ...|\n",
      "|The 1999 compact ...|\n",
      "|The 1999 compact ...|\n",
      "|The 2008 compact ...|\n",
      "|The 2008 compact ...|\n",
      "|The 1999 midsize ...|\n",
      "|The 2008 midsize ...|\n",
      "|The 2008 midsize ...|\n",
      "|The 2008 suv c150...|\n",
      "|The 2008 suv c150...|\n",
      "+--------------------+\n",
      "only showing top 20 rows\n",
      "\n"
     ]
    }
   ],
   "source": [
    "df.select(\n",
    "    f.concat(f.lit('The '),\n",
    "             f.expr('year'),\n",
    "             f.lit(' '),\n",
    "             f.expr('class'),\n",
    "             f.lit(' '),\n",
    "             f.expr('model'),\n",
    "             f.lit(' has a '),\n",
    "             f.expr('cyl'),\n",
    "             f.lit(' cylinder engine.')\n",
    "            ).alias('sentence')).show()"
   ]
  },
  {
   "cell_type": "code",
   "execution_count": 40,
   "id": "43372388",
   "metadata": {},
   "outputs": [
    {
     "name": "stdout",
     "output_type": "stream",
     "text": [
      "+--------------------+\n",
      "|startswith(trans, a)|\n",
      "+--------------------+\n",
      "|                true|\n",
      "|               false|\n",
      "|               false|\n",
      "|                true|\n",
      "|                true|\n",
      "|               false|\n",
      "|                true|\n",
      "|               false|\n",
      "|                true|\n",
      "|               false|\n",
      "|                true|\n",
      "|                true|\n",
      "|               false|\n",
      "|                true|\n",
      "|               false|\n",
      "|                true|\n",
      "|                true|\n",
      "|                true|\n",
      "|                true|\n",
      "|                true|\n",
      "+--------------------+\n",
      "only showing top 20 rows\n",
      "\n"
     ]
    }
   ],
   "source": [
    "df.select(df.trans.startswith('a')).show()"
   ]
  },
  {
   "cell_type": "code",
   "execution_count": 45,
   "id": "1e9fbc3d",
   "metadata": {},
   "outputs": [
    {
     "name": "stdout",
     "output_type": "stream",
     "text": [
      "+------------+\n",
      "|transmission|\n",
      "+------------+\n",
      "|        auto|\n",
      "|      manual|\n",
      "|      manual|\n",
      "|        auto|\n",
      "|        auto|\n",
      "|      manual|\n",
      "|        auto|\n",
      "|      manual|\n",
      "|        auto|\n",
      "|      manual|\n",
      "|        auto|\n",
      "|        auto|\n",
      "|      manual|\n",
      "|        auto|\n",
      "|      manual|\n",
      "|        auto|\n",
      "|        auto|\n",
      "|        auto|\n",
      "|        auto|\n",
      "|        auto|\n",
      "+------------+\n",
      "only showing top 20 rows\n",
      "\n"
     ]
    }
   ],
   "source": [
    "df.select(\n",
    "    f.when(df.trans.startswith('a'), 'auto').otherwise('manual').alias('transmission')\n",
    ").show()\n",
    "\n"
   ]
  },
  {
   "cell_type": "code",
   "execution_count": 46,
   "id": "3c60f23e",
   "metadata": {},
   "outputs": [],
   "source": [
    "# loading the tips data set\n",
    "tips = data('tips')"
   ]
  },
  {
   "cell_type": "code",
   "execution_count": 47,
   "id": "aec18ed2",
   "metadata": {},
   "outputs": [],
   "source": [
    "# making a sparrk df\n",
    "df = spark.createDataFrame(tips)"
   ]
  },
  {
   "cell_type": "code",
   "execution_count": 53,
   "id": "d34a6071",
   "metadata": {},
   "outputs": [
    {
     "name": "stdout",
     "output_type": "stream",
     "text": [
      "+----------+----+------+------+---+------+----+\n",
      "|total_bill| tip|   sex|smoker|day|  time|size|\n",
      "+----------+----+------+------+---+------+----+\n",
      "|     16.99|1.01|Female|    No|Sun|Dinner|   2|\n",
      "+----------+----+------+------+---+------+----+\n",
      "only showing top 1 row\n",
      "\n"
     ]
    }
   ],
   "source": [
    "df.show(1)"
   ]
  },
  {
   "cell_type": "code",
   "execution_count": 57,
   "id": "85b5fb6f",
   "metadata": {},
   "outputs": [
    {
     "name": "stdout",
     "output_type": "stream",
     "text": [
      "+-----------------------------------+\n",
      "|CASE WHEN (smoker = Yes) THEN 1 END|\n",
      "+-----------------------------------+\n",
      "|                               null|\n",
      "|                               null|\n",
      "|                               null|\n",
      "|                               null|\n",
      "|                               null|\n",
      "|                               null|\n",
      "|                               null|\n",
      "|                               null|\n",
      "|                               null|\n",
      "|                               null|\n",
      "|                               null|\n",
      "|                               null|\n",
      "|                               null|\n",
      "|                               null|\n",
      "|                               null|\n",
      "|                               null|\n",
      "|                               null|\n",
      "|                               null|\n",
      "|                               null|\n",
      "|                               null|\n",
      "+-----------------------------------+\n",
      "only showing top 20 rows\n",
      "\n"
     ]
    }
   ],
   "source": [
    "# hwrta percentage of the oberservations are smokers?\n",
    "# smokers / totalobs * 100\n",
    "df.select(\n",
    "    f.when(df.smoker == 'Yes', 1)\n",
    ").show()"
   ]
  }
 ],
 "metadata": {
  "kernelspec": {
   "display_name": "Python 3 (ipykernel)",
   "language": "python",
   "name": "python3"
  },
  "language_info": {
   "codemirror_mode": {
    "name": "ipython",
    "version": 3
   },
   "file_extension": ".py",
   "mimetype": "text/x-python",
   "name": "python",
   "nbconvert_exporter": "python",
   "pygments_lexer": "ipython3",
   "version": "3.9.13"
  }
 },
 "nbformat": 4,
 "nbformat_minor": 5
}
